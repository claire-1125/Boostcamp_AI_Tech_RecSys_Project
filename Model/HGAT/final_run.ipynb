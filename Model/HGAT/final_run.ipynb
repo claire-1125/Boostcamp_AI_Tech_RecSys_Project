{
 "cells": [
  {
   "cell_type": "code",
   "execution_count": 1,
   "metadata": {},
   "outputs": [],
   "source": [
    "import pandas as pd\n",
    "import numpy as np\n",
    "import os\n",
    "from final_models import HGAT, NodeAttentionLayer\n",
    "import torch\n",
    "from torch import nn\n",
    "from tqdm import tqdm\n",
    "from scipy import sparse as sp\n",
    "from numpy import dot\n",
    "from numpy.linalg import norm\n",
    "from dataset import recipe_dataset\n",
    "import random\n",
    "from utils import recall, custom_train_valid_split\n",
    "import torch.optim as optim\n",
    "import torch.nn.functional as F\n",
    "\n",
    "path = '/opt/ml/recipe/recipe_data'\n",
    "\n",
    "# recipe = pd.read_csv(os.path.join(path, '레시피_메타정보_raw.csv'))\n",
    "\n",
    "# recipe_seq = pd.read_csv(os.path.join(path, '레시피_순서_내용_raw.csv'))\n",
    "\n",
    "# recipe_user = pd.read_csv(os.path.join(path, '레시피_유저_내용_raw.csv'))\n",
    "recipe_ingredient = pd.read_csv(os.path.join(path, '레시피_재료_내용_raw.csv'))\n",
    "recipe_ingredient.dropna(subset=['재료_아이디'],inplace=True)\n",
    "# recipe_cat = pd.read_csv(os.path.join(path,'레시피_분류_내용_raw.csv'))\n",
    "# recipe_new_cat = pd.read_csv(os.path.join(path,'레시피_카테고리_정제.csv'))\n",
    "\n",
    "# recipe_tag = pd.read_csv(os.path.join(path, '레시피_태그_내용_raw.csv'))\n",
    "# user_data = pd.read_csv(os.path.join(path, '유저_메타정보_raw.csv'))\n",
    "# ingredients = pd.read_csv(os.path.join(path, '재료_메타정보_raw.csv'))\n",
    "\n",
    "# ingredient_meta = pd.read_csv(os.path.join(path,'재료_메타정보_1.0.csv'))\n",
    "# ingredient_keyword = pd.read_csv(os.path.join(path,'재료_키워드_내용_raw.csv'))\n",
    "# ingredient_recipe = pd.read_csv(os.path.join(path,'재료_레시피_내용_raw.csv'))\n",
    "\n",
    "# # 피쳐를 dense 하게 학습 하는 것과 sparse 하게 학습하는 것과 결과 차이가 있는가?\n",
    "# user_node, recipe_node, ing_node = dataset.get_node()\n",
    "\n",
    "# user_realation_matrix, recipe_relation_matrix = dataset.get_matrix()"
   ]
  },
  {
   "cell_type": "code",
   "execution_count": 2,
   "metadata": {},
   "outputs": [],
   "source": [
    "def recall_k(prediction,labels, topk):\n",
    "    recall_at_k = 0\n",
    "    for i in range(prediction.shape[0]):\n",
    "        r_i = prediction[i].topk(topk).indices.tolist()\n",
    "        l_i = torch.where(labels[i] == 1)[0].tolist()\n",
    "        recall_i = len(set(r_i) & set(l_i)) / min(topk,len(l_i))\n",
    "        recall_at_k += recall_i\n",
    "    return recall_at_k/prediction.shape[0]"
   ]
  },
  {
   "cell_type": "code",
   "execution_count": 3,
   "metadata": {},
   "outputs": [],
   "source": [
    "train = pd.read_csv(os.path.join(path, 'train셋(73609개-220603_192931).csv'))\n",
    "test = pd.read_csv(os.path.join(path, 'test셋(4422개-220603_192931).csv'))"
   ]
  },
  {
   "cell_type": "code",
   "execution_count": 4,
   "metadata": {},
   "outputs": [
    {
     "name": "stdout",
     "output_type": "stream",
     "text": [
      "사용할 유저 수 : 4422\n",
      "사용할 레시피 수 : 5900\n",
      "사용할 재료 수: 911\n"
     ]
    }
   ],
   "source": [
    "dataset = recipe_dataset( train,test, recipe_ingredient )"
   ]
  },
  {
   "cell_type": "code",
   "execution_count": 5,
   "metadata": {},
   "outputs": [],
   "source": [
    "users, recipes, ings = dataset.get_user_recipe_ing()"
   ]
  },
  {
   "cell_type": "code",
   "execution_count": 6,
   "metadata": {},
   "outputs": [],
   "source": [
    "user_rel_matrix, recipe_rel_matrix = dataset.get_matrix()"
   ]
  },
  {
   "cell_type": "code",
   "execution_count": 7,
   "metadata": {},
   "outputs": [],
   "source": [
    "\n",
    "device = 'cuda'\n",
    "hidden_dim = 32\n",
    "seed = 9"
   ]
  },
  {
   "cell_type": "code",
   "execution_count": 8,
   "metadata": {},
   "outputs": [],
   "source": [
    "# node = NodeAttentionLayer(32, 512, 0.5 ,32,'cuda')\n",
    "# e = node(model.user_embedding(torch.tensor([0])).to('cuda') , model.recipe_embedding[torch.tensor(user_rel_matrix[0][0])].to('cuda'))"
   ]
  },
  {
   "cell_type": "code",
   "execution_count": 9,
   "metadata": {},
   "outputs": [],
   "source": [
    "model = HGAT(\n",
    "            n_user = len(users),\n",
    "            n_recipe = len(recipes), \n",
    "            n_ing = len(ings),\n",
    "            u_dim = hidden_dim, \n",
    "            r_dim = 512, \n",
    "            i_dim = 512, \n",
    "            out_features = hidden_dim,            \n",
    "            drop_out = 0.5, \n",
    "            n_heads=3,\n",
    "            user_relation_matrix = user_rel_matrix, \n",
    "            recipe_relation_matrix = recipe_rel_matrix,            \n",
    "            device = device\n",
    "            )"
   ]
  },
  {
   "cell_type": "code",
   "execution_count": 10,
   "metadata": {},
   "outputs": [
    {
     "name": "stderr",
     "output_type": "stream",
     "text": [
      "100%|██████████| 4422/4422 [00:27<00:00, 159.93it/s]\n"
     ]
    }
   ],
   "source": [
    "user2idx = dataset.user2idx\n",
    "recipe2idx = dataset.recipe2idx\n",
    "\n",
    "label = torch.zeros(len(users), len(recipes))\n",
    "urm = torch.zeros(len(users), len(recipes))\n",
    "for u in tqdm(train.유저_아이디.unique()):\n",
    "    u_idx = user2idx[u]\n",
    "    for r in test[test.유저_아이디==u].레시피_아이디.unique():\n",
    "        r_idx = recipe2idx[r]\n",
    "        label[u_idx][r_idx] = 1\n",
    "    for r in train[train.유저_아이디==u].레시피_아이디.unique():\n",
    "        r_idx = recipe2idx[r]\n",
    "        urm[u_idx][r_idx] = 1"
   ]
  },
  {
   "cell_type": "code",
   "execution_count": 11,
   "metadata": {},
   "outputs": [],
   "source": [
    "epochs = 200\n",
    "topk = 100\n",
    "optimizer = optim.Adam(model.parameters(), \n",
    "                       lr=1e-2,\n",
    "                       weight_decay=1e-3)\n",
    "criterion = nn.CrossEntropyLoss()"
   ]
  },
  {
   "cell_type": "code",
   "execution_count": 12,
   "metadata": {},
   "outputs": [
    {
     "data": {
      "text/plain": [
       "<torch.autograd.anomaly_mode.set_detect_anomaly at 0x7f642b3f0cd0>"
      ]
     },
     "execution_count": 12,
     "metadata": {},
     "output_type": "execute_result"
    }
   ],
   "source": [
    "torch.autograd.set_detect_anomaly(True)"
   ]
  },
  {
   "cell_type": "code",
   "execution_count": 13,
   "metadata": {},
   "outputs": [
    {
     "name": "stderr",
     "output_type": "stream",
     "text": [
      "  0%|          | 0/100 [00:00<?, ?it/s]"
     ]
    },
    {
     "name": "stdout",
     "output_type": "stream",
     "text": [
      "H_U : -997.2159016132355\n"
     ]
    }
   ],
   "source": [
    "best_loss = 1e9\n",
    "topk = 100\n",
    "\n",
    "epochs = 100\n",
    "best_epochs = 0\n",
    "patient = 50\n",
    "count = 0\n",
    "urm = urm.reshape(4422,1,5900)\n",
    "\n",
    "for e in tqdm(range(epochs)):\n",
    "    model.train()\n",
    "    train_pred = model(\n",
    "                        list(range(len(users))),\n",
    "                        []\n",
    "                    )\n",
    "\n",
    "    preds = train_pred.to('cpu')    \n",
    "    loss_train = criterion(preds, urm)\n",
    "\n",
    "    print('---------------------------------------------------------------------')\n",
    "    if loss_train.detach().item() < best_loss:\n",
    "        # torch.save(model.state_dict(), '/opt/ml/recipe/HGAT/model_save/best_model.pt')\n",
    "        print('save best model!')\n",
    "        best_loss = loss_train.detach().item()\n",
    "        best_epochs = e\n",
    "        preds[torch.where(urm)] = 0\n",
    "        print(f\"recall@{topk} :\", recall_k(preds.squeeze(1),label,topk))\n",
    "        count = 0\n",
    "    else:\n",
    "        count += 1\n",
    "        if count == patient:\n",
    "            print(f'patient == {patient}')\n",
    "            break\n",
    "\n",
    "    optimizer.zero_grad()\n",
    "    loss_train.backward()\n",
    "    optimizer.step()\n",
    "    print(f'epochs : {e}')\n",
    "    print('train loss :',loss_train)    "
   ]
  },
  {
   "cell_type": "code",
   "execution_count": null,
   "metadata": {},
   "outputs": [],
   "source": []
  }
 ],
 "metadata": {
  "interpreter": {
   "hash": "d4d1e4263499bec80672ea0156c357c1ee493ec2b1c70f0acce89fc37c4a6abe"
  },
  "kernelspec": {
   "display_name": "Python 3 (ipykernel)",
   "language": "python",
   "name": "python3"
  },
  "language_info": {
   "codemirror_mode": {
    "name": "ipython",
    "version": 3
   },
   "file_extension": ".py",
   "mimetype": "text/x-python",
   "name": "python",
   "nbconvert_exporter": "python",
   "pygments_lexer": "ipython3",
   "version": "3.8.5"
  },
  "toc-autonumbering": false
 },
 "nbformat": 4,
 "nbformat_minor": 4
}
